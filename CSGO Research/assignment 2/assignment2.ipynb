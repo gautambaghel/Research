{
 "cells": [
  {
   "cell_type": "markdown",
   "metadata": {},
   "source": [
    "# Assignment 2 - Gautam Baghel"
   ]
  },
  {
   "cell_type": "markdown",
   "metadata": {},
   "source": [
    "Q1. Hand calculations\n",
    "\n",
    "a) P(X<11) \n",
    "\n",
    "       after standardizing with  (X - mu) / sigma we get\n",
    "\n",
    "       11 - 33 / 11 = -2\n",
    " \n",
    "       looking up the standard distribution table -2 corressponds to 0.02275\n",
    "    \n",
    "       P(X<11) = 0.02275 (left of the curve)\n",
    "   \n",
    "b) P(X>55)\n",
    "\n",
    "       after standardizing with  (X - mu) / sigma we get\n",
    "\n",
    "       55 - 33 / 11 = 2\n",
    " \n",
    "       looking up the standard distribution table 2 corressponds to  0.97725\n",
    "    \n",
    "       P(X>55) = 1 - 0.97725 (right of the curve) = 0.02275\n",
    "\n",
    "c) Adding the above two probablities we get\n",
    "\n",
    "       P(X<55 & X<11) = 0.0455"
   ]
  },
  {
   "cell_type": "code",
   "execution_count": 17,
   "metadata": {},
   "outputs": [
    {
     "name": "stdout",
     "output_type": "stream",
     "text": [
      "P(X<11) = 0.022750131948179195\n",
      "P(X>55) = 0.02275013194817921\n",
      "P(11<X & X>55) = 0.045500263896358306\n"
     ]
    },
    {
     "data": {
      "image/png": "[encoded data removed]",
      "text/plain": [
       "<Figure size 432x288 with 1 Axes>"
      ]
     },
     "metadata": {},
     "output_type": "display_data"
    }
   ],
   "source": [
    "import math\n",
    "import matplotlib.pyplot as plt\n",
    "import numpy as np\n",
    "import matplotlib.mlab as mlab\n",
    "import scipy.stats\n",
    "import warnings\n",
    "warnings.filterwarnings(\"ignore\",category=mlab.cbook.mplDeprecation)\n",
    "\n",
    "mu = 33\n",
    "sigma = 11\n",
    "n = 100\n",
    "\n",
    "def zstat(x): return (x - mu)/(sigma / math.sqrt(n))\n",
    "\n",
    "print('P(X<11) =', scipy.stats.norm(mu,sigma).cdf(11))\n",
    "\n",
    "print('P(X>55) =', 1 - scipy.stats.norm(mu,sigma).cdf(55))\n",
    "\n",
    "print('P(11<X & X>55) =', scipy.stats.norm(mu,sigma).cdf(11) + 1 - scipy.stats.norm(mu,sigma).cdf(55))\n",
    "\n",
    "x = np.linspace(mu - 3*sigma, mu + 3*sigma, 100)\n",
    "plt.plot(x,mlab.normpdf(x, mu, sigma))\n",
    "plt.show()"
   ]
  },
  {
   "cell_type": "markdown",
   "metadata": {},
   "source": [
    "Q3. Hand calculations\n",
    "\n",
    "    a) P(X<11)\n",
    "\n",
    "       after standardizing with  (X - mu) / sigma we get\n",
    "\n",
    "       11 - 33 / 11 = -2\n",
    "\n",
    "       looking up the standard distribution table -2 corressponds to 0.02275\n",
    "\n",
    "       P(X<11) = 0.02275 (left of the curve)\n",
    "\n",
    "    b) P(X>55)\n",
    "\n",
    "       after standardizing with  (X - mu) / sigma we get\n",
    "\n",
    "       55 - 33 / 11 = 2\n",
    "\n",
    "       looking up the standard distribution table 2 corressponds to  0.97725\n",
    "\n",
    "       P(X>55) = 1 - 0.97725 (right of the curve) = 0.02275\n",
    "\n",
    "    c) Adding the above two probablities we get\n",
    "\n",
    "       P(X<55 & X<11) = 0.0455\n"
   ]
  },
  {
   "cell_type": "code",
   "execution_count": 18,
   "metadata": {},
   "outputs": [
    {
     "name": "stdout",
     "output_type": "stream",
     "text": [
      "P(X<11) = 0.022750131948179195\n",
      "P(X>55) = 0.02275013194817921\n",
      "P(11<X & X>55) = 0.045500263896358306\n"
     ]
    },
    {
     "data": {
      "image/png": "[encoded data removed]",
      "text/plain": [
       "<Figure size 432x288 with 1 Axes>"
      ]
     },
     "metadata": {},
     "output_type": "display_data"
    }
   ],
   "source": [
    "import math\n",
    "import matplotlib.pyplot as plt\n",
    "import numpy as np\n",
    "import matplotlib.mlab as mlab\n",
    "import scipy.stats\n",
    "import warnings\n",
    "warnings.filterwarnings(\"ignore\",category=mlab.cbook.mplDeprecation)\n",
    "\n",
    "mu = 33\n",
    "sigma = 11\n",
    "n = 1000\n",
    "\n",
    "def zstat(x): return (x - mu)/(sigma / math.sqrt(n))\n",
    "\n",
    "print('P(X<11) =', scipy.stats.norm(mu,sigma).cdf(11))\n",
    "\n",
    "print('P(X>55) =', 1 - scipy.stats.norm(mu,sigma).cdf(55))\n",
    "\n",
    "print('P(11<X & X>55) =', scipy.stats.norm(mu,sigma).cdf(11) + 1 - scipy.stats.norm(mu,sigma).cdf(55))\n",
    "\n",
    "x = np.linspace(mu - 3*sigma, mu + 3*sigma, 100)\n",
    "plt.plot(x,mlab.normpdf(x, mu, sigma))\n",
    "plt.show()"
   ]
  },
  {
   "cell_type": "markdown",
   "metadata": {},
   "source": [
    "Q5. \n",
    "\n",
    "    Since we don't have the standard deviation we need to do a t-test.\n",
    "    Instead of population varaince we need to work with sample variation.\n",
    "    \n",
    "A. \n",
    "    \n",
    "    H0: mu < 10\n",
    "    Ha: mu ≥ 10\n",
    "    \n",
    "B.\n",
    "    \n",
    "    SE(X̄) = s/√n\n",
    "    \n",
    "    t = X̄ - mu / (SE(X̄))\n",
    "    \n",
    "    sigma = √((1/N) * Σ(x - mu)^2) = 11.9\n",
    "    \n",
    "    t = 6.0975 - 10 / (11.9 / √55) = -1.884\n",
    "    \n",
    "    area under the curve based on this t-score is (p-value)= 0.049\n",
    "    \n",
    "    DF = n-1 = 54\n",
    "    \n",
    "C. \n",
    "    \n",
    "    Evidence against the null hypothesis is not significant as the p-value is just 0.049\n",
    "    Either based on a traditionally being less than α (α = 0.05). Or just looking at the \n",
    "    observed probability of the return being greater than or equal to 10%"
   ]
  },
  {
   "cell_type": "code",
   "execution_count": 79,
   "metadata": {},
   "outputs": [
    {
     "name": "stdout",
     "output_type": "stream",
     "text": [
      "mean =  6.975336218998899\n",
      "t-value =  -1.884382659765678\n",
      "area under the curve =  1.284421601843897e-06\n",
      "standard deviation =  11.903902235771346\n"
     ]
    },
    {
     "data": {
      "text/plain": [
       "<matplotlib.legend.Legend at 0x107c0f860>"
      ]
     },
     "execution_count": 79,
     "metadata": {},
     "output_type": "execute_result"
    },
    {
     "data": {
      "image/png": "[encoded data removed]",
      "text/plain": [
       "<Figure size 432x288 with 1 Axes>"
      ]
     },
     "metadata": {},
     "output_type": "display_data"
    }
   ],
   "source": [
    "import math\n",
    "import matplotlib.pyplot as plt\n",
    "import numpy as np\n",
    "import matplotlib.mlab as mlab\n",
    "import scipy.stats as st\n",
    "import warnings\n",
    "import functools\n",
    "warnings.filterwarnings(\"ignore\",category=mlab.cbook.mplDeprecation)\n",
    "\n",
    "\n",
    "data = [23.72502353842273, 21.62401646603374, -0.7463274288122257, 1.7178830450828002, -2.634776050958738,\n",
    "        -2.792138753758266, -10.514395560878746, 8.720529920419578, 18.782813772780308, 5.825456165455785, \n",
    "        11.172228117978728, 11.97032962928146, -30.981624884074883, 8.428109006257554, 13.715597227579686, \n",
    "        -7.14438096845215, 35.38150590002323, 5.951675701660346, -2.128337264991565, 12.952160066221724, \n",
    "        -9.52841782146271, 9.27768703224383, -10.489029625059331, 1.7170477394203232, 11.717280979491225, \n",
    "        18.84977052950971, 12.645227894971965, -2.444524930791145, -4.870684454119193, 9.384408019477661,\n",
    "        13.450953108385315, 23.714466213916317, 5.7140681189301255, -14.73667486810843, 6.455693762385872, \n",
    "        9.715370033540502, 11.133859293104898, 5.12584305942378, -3.6547977197096486, 15.65791149754521,\n",
    "        17.045514919166266, 20.86418259486488, 28.498593533062984, 15.689734619702122, 7.954721816163218,\n",
    "        -3.113512775937407, 12.86046371264133, 2.467429173851536, -2.682786932363779, -1.9362359856511269, \n",
    "        5.912048015521583, 24.003261208189425, 9.7084789611135, -6.91532401310932, 21.426117689357]\n",
    "\n",
    "n = len(data)\n",
    "mu = np.mean(data)\n",
    "sigma = np.std(data)\n",
    "h0 = 10\n",
    "dof = n-1       # degrees of freedom\n",
    "alpha = 0.05    # Significence level\n",
    "ntails = 2      # Number of tails \n",
    "\n",
    "\n",
    "## Calculate critical t-score\n",
    "tcrit = abs(st.t.ppf(alpha/ntails, dof))\n",
    "\n",
    "def tval(): return (mu - h0)/(sigma / math.sqrt(n))\n",
    "\n",
    "print('mean = ', functools.reduce(lambda x, y: x + y, data) / len(data))\n",
    "print('t-value = ', tval())\n",
    "print('area under the curve = ',scipy.stats.t(mu,sigma).cdf(10))\n",
    "print('standard deviation = ',np.std(data))\n",
    "\n",
    "plt.figure()\n",
    "xs = np.linspace(-10,10,1000)\n",
    "plt.plot(xs, st.t.pdf(xs,dof), 'k', label=\"T-Distribution PDF\")\n",
    "\n",
    "## Plot some vertical lines representing critical t-score cutoff\n",
    "critline = np.linspace(0,alpha/ntails)  # y range for critical line, AKA probability from 0-p*\n",
    "xs_1 = len(critline) * [-tcrit]         # X ranges for plotting\n",
    "xs_2 = len(critline) * [tcrit]\n",
    "\n",
    "plt.plot(xs_1, critline, 'r', label=\"-t* for dof=54\")\n",
    "plt.plot(xs_2, critline,'r', label=\"t* for dof=54\")\n",
    "plt.legend()"
   ]
  },
  {
   "cell_type": "markdown",
   "metadata": {},
   "source": [
    "Q7. \n",
    "\n",
    "    Although the company claims to have less than 1% of their product being defective,\n",
    "    the evidence against their claim seems to be substantial, 2 of their laptops were defective \n",
    "    in the sample size of 100.\n",
    "    \n",
    "    Lets assume the population variance to be (sigma^2) 0.25\n",
    "    which means standard deviation (sigma) is 0.5\n",
    "    \n",
    "    Lets assume our null hypothesis that only one laptop can be defective.\n",
    "    and the alternative hypothesis becomes that it could be greater than 1.\n",
    "    \n",
    "    H0: mu = 1\n",
    "    Ha: mu > 1\n",
    "    \n",
    "    Z = (X̄ - mu0)/ (sigma X̄)\n",
    "    \n",
    "    sigma X̄ = sigma / √n = 0.05\n",
    "    \n",
    "    Z = 2-1/0.05 = 20\n",
    "    \n",
    "    P(Z≥20) = 2.194442104e-314\n",
    "    \n",
    "    So the very insignificant p value show very strong evidence against H0.\n",
    "   "
   ]
  },
  {
   "cell_type": "code",
   "execution_count": 73,
   "metadata": {},
   "outputs": [
    {
     "name": "stdout",
     "output_type": "stream",
     "text": [
      "P(Z ≥ 20) =  2.194442104e-314\n"
     ]
    },
    {
     "data": {
      "image/png": "[encoded data removed]",
      "text/plain": [
       "<Figure size 432x288 with 1 Axes>"
      ]
     },
     "metadata": {},
     "output_type": "display_data"
    }
   ],
   "source": [
    "mu = 1\n",
    "sigma = 0.5\n",
    "n = 100\n",
    "xBar = 2 # Observed defects\n",
    "\n",
    "sigmaX = sigma/(math.sqrt(n))\n",
    "\n",
    "mu = 1 # H0: mu = 1 \n",
    "       # Ha: mu > 1\n",
    "\n",
    "def zval(): return (xBar - mu)/(sigmaX)\n",
    "\n",
    "pZVal = scipy.stats.norm(mu, sigma).pdf(zval())\n",
    "print('P(Z ≥ 20) = ', pZVal)\n",
    "\n",
    "x = np.linspace(-25, 25, 100)\n",
    "plt.plot(x,mlab.normpdf(x, mu, sigma))\n",
    "plt.plot(20, 0, 'ro')\n",
    "plt.show()"
   ]
  },
  {
   "cell_type": "markdown",
   "metadata": {},
   "source": [
    "Q9.\n",
    "\n",
    "A.\n",
    "\n",
    "    H0: m = 103\n",
    "    Ha: m ≠ 103\n",
    "    α = 0.05\n",
    "    sigma = 60\n",
    "    n = 500\n",
    "    mu = 101   \n",
    "    \n",
    "    sigma X̄ = sigma / √n = 60/√500 = 2.683\n",
    "    \n",
    "    Z = (X̄ - mu0)/ (sigma X̄) = 103-101/2.683 = 0.745\n",
    "    \n",
    "    P(m != 103) = 0.2281358599419896\n",
    "    \n",
    "B.\n",
    "\n",
    "    α/2 because of the two tailed test\n",
    "    Confidence interval => X̄ ± ((z α/2) * sigma/√n)\n",
    "    (z α/2) = 1.96 # From the computer or standard normal table\n",
    "    \n",
    "    Confidence interval => 103 ± (1.96 * 60/√500) = 5.25\n",
    "    \n",
    "    95% confidence interval for m is (98,108)\n",
    "\n",
    "    "
   ]
  },
  {
   "cell_type": "code",
   "execution_count": 77,
   "metadata": {},
   "outputs": [
    {
     "name": "stdout",
     "output_type": "stream",
     "text": [
      "P(m != 103) = 0.2281358599419896\n"
     ]
    },
    {
     "data": {
      "image/png": "[encoded data removed]",
      "text/plain": [
       "<Figure size 432x288 with 1 Axes>"
      ]
     },
     "metadata": {},
     "output_type": "display_data"
    }
   ],
   "source": [
    "mu = 101\n",
    "sigma = 60\n",
    "n = 500\n",
    "\n",
    "\n",
    "print('P(m != 103) =', 1- scipy.stats.norm.cdf(0.745))\n",
    "\n",
    "x = np.linspace(mu - 3*sigma, mu + 3*sigma, 100)\n",
    "plt.plot(x,mlab.normpdf(x, mu, sigma))\n",
    "plt.show()"
   ]
  },
  {
   "cell_type": "code",
   "execution_count": null,
   "metadata": {},
   "outputs": [],
   "source": []
  }
 ],
 "metadata": {
  "kernelspec": {
   "display_name": "Python 3",
   "language": "python",
   "name": "python3"
  },
  "language_info": {
   "codemirror_mode": {
    "name": "ipython",
    "version": 3
   },
   "file_extension": ".py",
   "mimetype": "text/x-python",
   "name": "python",
   "nbconvert_exporter": "python",
   "pygments_lexer": "ipython3",
   "version": "3.6.5"
  }
 },
 "nbformat": 4,
 "nbformat_minor": 2
}
