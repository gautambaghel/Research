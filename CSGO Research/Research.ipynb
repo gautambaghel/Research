{
 "cells": [
  {
   "cell_type": "markdown",
   "metadata": {},
   "source": [
    "# CS: GO win/loss prediction with feature importance for user retention through better matchmaking"
   ]
  },
  {
   "cell_type": "markdown",
   "metadata": {},
   "source": [
    "## Introduction\n",
    "\n",
    "Counter Strike Go (CS:GO) is a multiplayer first-person shooter video game developed by Hidden Path Entertainment and Valve Corporation. The game pits two teams against each other: the Terrorists and the Counter-Terrorists. Both sides are tasked with eliminating the other while also completing separate objectives, the Terrorists, depending on the game mode, must either plant the bomb or defend the hostages, while the Counter-Terrorists must either prevent the bomb from being planted, defuse the bomb, or rescue the hostages. There are eight game modes, all of which have distinct characteristics specific to that mode. [1]\n",
    "\n",
    "\n",
    "Global Offensive has matchmaking support that allows players to play on dedicated Valve servers, as well as allowing members of the community to host their own servers with custom maps and game modes. Global Offensive has a competitive scene, with Valve-sponsored tournaments being the premier competitive events for the game. "
   ]
  },
  {
   "cell_type": "markdown",
   "metadata": {},
   "source": [
    "## Machine Learning\n",
    "\n",
    "Machine learning is the science of getting computers to act without being explicitly programmed. In the past decade, machine learning has given us self-driving cars, practical speech recognition, effective web search, and a vastly improved understanding of the human genome. Machine learning is so pervasive today that you probably use it dozens of times a day without knowing it. Many researchers also think it is the best way to make progress towards human-level AI. In this class, you will learn about the most effective machine learning techniques, and gain practice implementing them and getting them to work for yourself.\n",
    "\n",
    "It consists of \n",
    "- Supervised learning (parametric/non-parametric algorithms, support vector machines, kernels, neural networks).\n",
    "- Unsupervised learning (clustering, dimensionality reduction, recommender systems, deep learning).\n",
    "- Best practices in machine learning (bias/variance theory; innovation process in machine learning and AI)."
   ]
  },
  {
   "cell_type": "markdown",
   "metadata": {},
   "source": [
    "## Why &  How\n",
    "\n",
    "The objective is to have players stay in servers as long as possible. We want to maximize the user retention on valve servers and give the players a good gaming experience. The way to do that is two-fold: Matches are evenly established. Secondly, there are no cheaters. Valve runs Valve Anti-Cheat to prevent cheating. So this project will be focusing on better matchmaking. To achieve this we must employ a better matchmaking system which pitches the player of similar standards.\n",
    "\n",
    "In a regular server the teams are shuffled almost after every game. If the servers detect that the games are too short or the teams are unevenly matched we would need to shuffle the teams appropriately, now this is where the features will be important in deciding which players need to be employed to the other team. On completion of the maps win/loss prediction would be essential in forming the next batch of teams."
   ]
  },
  {
   "cell_type": "markdown",
   "metadata": {},
   "source": [
    "## Prerequisites\n",
    "\n",
    "\n",
    "### Installing Python\n",
    "\n",
    "Get the latest version on Python from https://www.python.org/downloads/\n",
    "\n",
    "Depending on the OS install the recommended and most stable version of Python.\n",
    "\n",
    "Ensure Python is correctly installed:\n",
    "\n",
    "On Windows : \n",
    "    \n",
    "    On Start -> cmd (Open command prompt) -> Python -V\n",
    "\n",
    "On Mac/Linux : \n",
    "    \n",
    "    terminal -> Python -V\n",
    "\n",
    "\n",
    "### Installing Pip or Anaconda\n",
    "\n",
    "We would need a distribution software for our external libraries. I personally prefer pip but Anaconda could be used as well. \n",
    "\n",
    "Download latest pip from https://pip.pypa.io/en/stable/installing/\n",
    "\n",
    "From the selected downloads folder, run the downloaded pip file with command \n",
    "    \n",
    "    python get-pip.py\n",
    "    pip -v \n",
    "\n",
    "To ensure that pip was installed correctly.\n",
    "\n",
    "To install Anaconda visit https://conda.io/docs/user-guide/install/index.html\n",
    "\n",
    "Installation is pretty straightforward based on the operating system.\n",
    "\n",
    "\n",
    "### Installing Jupyter Notebook\n",
    "\n",
    "run command:\n",
    "    \n",
    "    pip3 install jupyter\n",
    "    \n",
    "### Installing Tensor Flow\n",
    "\n",
    "    python3 -m pip install\n",
    "    \n",
    "### Installing h2o.ai\n",
    "\n",
    "H2O is open-source software for big-data analysis. It is produced by the company H2O.ai. H2O allows users to fit thousands of potential models as part of discovering patterns in data. The H2O software runs can be called from the statistical package R, Python, and other environments. It is used for exploring and analyzing datasets held in cloud computing systems and in the Apache Hadoop Distributed File System as well as in the conventional operating-systems Linux, macOS, and Microsoft Windows. The H2O software is written in Java, Python, and R. Its graphical-user interface is compatible with four browsers: Chrome, Safari, Firefox, and Internet Explorer. [7]\n",
    "\n",
    "If using browser cloud interface could be downloaded at https://www.h2o.ai/download/\n",
    "\n",
    "If using in python notebook\n"
   ]
  },
  {
   "cell_type": "code",
   "execution_count": 1,
   "metadata": {},
   "outputs": [
    {
     "name": "stdout",
     "output_type": "stream",
     "text": [
      "Checking whether there is an H2O instance running at http://localhost:54321..... not found.\n",
      "Attempting to start a local H2O server...\n",
      "; Java HotSpot(TM) Client VM (build 25.111-b14, mixed mode, sharing)\n"
     ]
    },
    {
     "name": "stderr",
     "output_type": "stream",
     "text": [
      "c:\\program files\\python36\\lib\\site-packages\\h2o\\backend\\server.py:331: UserWarning:   You have a 32-bit version of Java. H2O works best with 64-bit Java.\n",
      "  Please download the latest 64-bit Java SE JDK from Oracle.\n",
      "\n",
      "  warn(\"  You have a 32-bit version of Java. H2O works best with 64-bit Java.\\n\"\n"
     ]
    },
    {
     "name": "stdout",
     "output_type": "stream",
     "text": [
      "  Starting server from c:\\program files\\python36\\lib\\site-packages\\h2o\\backend\\bin\\h2o.jar\n",
      "  Ice root: C:\\Users\\Gautam\\AppData\\Local\\Temp\\tmpxnr1tsq5\n",
      "  JVM stdout: C:\\Users\\Gautam\\AppData\\Local\\Temp\\tmpxnr1tsq5\\h2o_Gautam_started_from_python.out\n",
      "  JVM stderr: C:\\Users\\Gautam\\AppData\\Local\\Temp\\tmpxnr1tsq5\\h2o_Gautam_started_from_python.err\n",
      "  Server is running at http://127.0.0.1:54321\n",
      "Connecting to H2O server at http://127.0.0.1:54321... successful.\n"
     ]
    },
    {
     "data": {
      "text/html": [
       "<div style=\"overflow:auto\"><table style=\"width:50%\"><tr><td>H2O cluster uptime:</td>\n",
       "<td>02 secs</td></tr>\n",
       "<tr><td>H2O cluster timezone:</td>\n",
       "<td>America/New_York</td></tr>\n",
       "<tr><td>H2O data parsing timezone:</td>\n",
       "<td>UTC</td></tr>\n",
       "<tr><td>H2O cluster version:</td>\n",
       "<td>3.20.0.5</td></tr>\n",
       "<tr><td>H2O cluster version age:</td>\n",
       "<td>8 days </td></tr>\n",
       "<tr><td>H2O cluster name:</td>\n",
       "<td>H2O_from_python_Gautam_xhs5q0</td></tr>\n",
       "<tr><td>H2O cluster total nodes:</td>\n",
       "<td>1</td></tr>\n",
       "<tr><td>H2O cluster free memory:</td>\n",
       "<td>247.5 Mb</td></tr>\n",
       "<tr><td>H2O cluster total cores:</td>\n",
       "<td>8</td></tr>\n",
       "<tr><td>H2O cluster allowed cores:</td>\n",
       "<td>8</td></tr>\n",
       "<tr><td>H2O cluster status:</td>\n",
       "<td>accepting new members, healthy</td></tr>\n",
       "<tr><td>H2O connection url:</td>\n",
       "<td>http://127.0.0.1:54321</td></tr>\n",
       "<tr><td>H2O connection proxy:</td>\n",
       "<td>None</td></tr>\n",
       "<tr><td>H2O internal security:</td>\n",
       "<td>False</td></tr>\n",
       "<tr><td>H2O API Extensions:</td>\n",
       "<td>Algos, AutoML, Core V3, Core V4</td></tr>\n",
       "<tr><td>Python version:</td>\n",
       "<td>3.6.0 final</td></tr></table></div>"
      ],
      "text/plain": [
       "--------------------------  -------------------------------\n",
       "H2O cluster uptime:         02 secs\n",
       "H2O cluster timezone:       America/New_York\n",
       "H2O data parsing timezone:  UTC\n",
       "H2O cluster version:        3.20.0.5\n",
       "H2O cluster version age:    8 days\n",
       "H2O cluster name:           H2O_from_python_Gautam_xhs5q0\n",
       "H2O cluster total nodes:    1\n",
       "H2O cluster free memory:    247.5 Mb\n",
       "H2O cluster total cores:    8\n",
       "H2O cluster allowed cores:  8\n",
       "H2O cluster status:         accepting new members, healthy\n",
       "H2O connection url:         http://127.0.0.1:54321\n",
       "H2O connection proxy:\n",
       "H2O internal security:      False\n",
       "H2O API Extensions:         Algos, AutoML, Core V3, Core V4\n",
       "Python version:             3.6.0 final\n",
       "--------------------------  -------------------------------"
      ]
     },
     "metadata": {},
     "output_type": "display_data"
    }
   ],
   "source": [
    "import h2o\n",
    "from h2o.automl import H2OAutoML\n",
    "\n",
    "h2o.init(strict_version_check=False) # start h2o"
   ]
  },
  {
   "cell_type": "markdown",
   "metadata": {},
   "source": [
    "## Dataset\n",
    "\n",
    " Download the Kaggle dataset from \n",
    " \n",
    " https://www.kaggle.com/skihikingkevin/csgo-matchmaking-damage/kernels?sortBy=dateRun&group=upvoted&pageSize=20&datasetId=2644\n",
    " \n",
    " This dataset within the 1400 matches provides every successful entry of duels (or battle) that took place for a player. That is, each row documents an event when a player is hurt by another player (or World e.g fall damage). There are over 900,000 entries within more than 31500 rounds.\n",
    "\n",
    "mm_master_demos.csv contains information on rounds fired, while mm_grenades_demos.csv contains information on grenades thrown. The fields in the two datasets are similar: highlights include shooters and victims, event coordinates, and timestamps. The datasets also includes static information on the match winner, player ranks before and after the match, and other miscellaneous match-level metadata.\n",
    "\n",
    " The dataset has lots 3 csv files of various map locations data, gun dataset and a granade dataset. We will prmarily be using the gun dataset named 'mm_master_demos.csv'.\n",
    " \n",
    " ### The dataset looks something like this:\n",
    " "
   ]
  },
  {
   "cell_type": "code",
   "execution_count": 1,
   "metadata": {},
   "outputs": [
    {
     "data": {
      "text/html": [
       "<div>\n",
       "<style scoped>\n",
       "    .dataframe tbody tr th:only-of-type {\n",
       "        vertical-align: middle;\n",
       "    }\n",
       "\n",
       "    .dataframe tbody tr th {\n",
       "        vertical-align: top;\n",
       "    }\n",
       "\n",
       "    .dataframe thead th {\n",
       "        text-align: right;\n",
       "    }\n",
       "</style>\n",
       "<table border=\"1\" class=\"dataframe\">\n",
       "  <thead>\n",
       "    <tr style=\"text-align: right;\">\n",
       "      <th></th>\n",
       "      <th>Unnamed: 0</th>\n",
       "      <th>file</th>\n",
       "      <th>map</th>\n",
       "      <th>date</th>\n",
       "      <th>round</th>\n",
       "      <th>tick</th>\n",
       "      <th>seconds</th>\n",
       "      <th>att_team</th>\n",
       "      <th>vic_team</th>\n",
       "      <th>att_side</th>\n",
       "      <th>...</th>\n",
       "      <th>vic_id</th>\n",
       "      <th>vic_rank</th>\n",
       "      <th>att_pos_x</th>\n",
       "      <th>att_pos_y</th>\n",
       "      <th>vic_pos_x</th>\n",
       "      <th>vic_pos_y</th>\n",
       "      <th>round_type</th>\n",
       "      <th>ct_eq_val</th>\n",
       "      <th>t_eq_val</th>\n",
       "      <th>avg_match_rank</th>\n",
       "    </tr>\n",
       "  </thead>\n",
       "  <tbody>\n",
       "    <tr>\n",
       "      <th>0</th>\n",
       "      <td>0</td>\n",
       "      <td>003201673717864202280_0171883906.dem</td>\n",
       "      <td>de_dust2</td>\n",
       "      <td>09/28/2017 8:44:22 PM</td>\n",
       "      <td>1</td>\n",
       "      <td>8482</td>\n",
       "      <td>133.0582</td>\n",
       "      <td>Team 1</td>\n",
       "      <td>Team 2</td>\n",
       "      <td>CounterTerrorist</td>\n",
       "      <td>...</td>\n",
       "      <td>76561198123082770</td>\n",
       "      <td>17</td>\n",
       "      <td>1473.847</td>\n",
       "      <td>1351.358</td>\n",
       "      <td>662.170</td>\n",
       "      <td>772.748</td>\n",
       "      <td>PISTOL_ROUND</td>\n",
       "      <td>2950</td>\n",
       "      <td>3850</td>\n",
       "      <td>16.0</td>\n",
       "    </tr>\n",
       "    <tr>\n",
       "      <th>1</th>\n",
       "      <td>1</td>\n",
       "      <td>003201673717864202280_0171883906.dem</td>\n",
       "      <td>de_dust2</td>\n",
       "      <td>09/28/2017 8:44:22 PM</td>\n",
       "      <td>1</td>\n",
       "      <td>8600</td>\n",
       "      <td>134.9023</td>\n",
       "      <td>Team 1</td>\n",
       "      <td>Team 2</td>\n",
       "      <td>CounterTerrorist</td>\n",
       "      <td>...</td>\n",
       "      <td>76561198051040004</td>\n",
       "      <td>17</td>\n",
       "      <td>-1211.723</td>\n",
       "      <td>1060.813</td>\n",
       "      <td>-1184.006</td>\n",
       "      <td>1153.343</td>\n",
       "      <td>PISTOL_ROUND</td>\n",
       "      <td>2950</td>\n",
       "      <td>3850</td>\n",
       "      <td>16.0</td>\n",
       "    </tr>\n",
       "    <tr>\n",
       "      <th>2</th>\n",
       "      <td>2</td>\n",
       "      <td>003201673717864202280_0171883906.dem</td>\n",
       "      <td>de_dust2</td>\n",
       "      <td>09/28/2017 8:44:22 PM</td>\n",
       "      <td>1</td>\n",
       "      <td>8610</td>\n",
       "      <td>135.0586</td>\n",
       "      <td>Team 2</td>\n",
       "      <td>Team 1</td>\n",
       "      <td>Terrorist</td>\n",
       "      <td>...</td>\n",
       "      <td>76561198223006752</td>\n",
       "      <td>16</td>\n",
       "      <td>-1153.584</td>\n",
       "      <td>1163.131</td>\n",
       "      <td>-1198.015</td>\n",
       "      <td>1050.423</td>\n",
       "      <td>PISTOL_ROUND</td>\n",
       "      <td>2950</td>\n",
       "      <td>3850</td>\n",
       "      <td>16.0</td>\n",
       "    </tr>\n",
       "    <tr>\n",
       "      <th>3</th>\n",
       "      <td>3</td>\n",
       "      <td>003201673717864202280_0171883906.dem</td>\n",
       "      <td>de_dust2</td>\n",
       "      <td>09/28/2017 8:44:22 PM</td>\n",
       "      <td>1</td>\n",
       "      <td>8624</td>\n",
       "      <td>135.2774</td>\n",
       "      <td>Team 1</td>\n",
       "      <td>Team 2</td>\n",
       "      <td>CounterTerrorist</td>\n",
       "      <td>...</td>\n",
       "      <td>76561198051040004</td>\n",
       "      <td>17</td>\n",
       "      <td>-1173.053</td>\n",
       "      <td>1044.365</td>\n",
       "      <td>-1141.785</td>\n",
       "      <td>1190.089</td>\n",
       "      <td>PISTOL_ROUND</td>\n",
       "      <td>2950</td>\n",
       "      <td>3850</td>\n",
       "      <td>16.0</td>\n",
       "    </tr>\n",
       "    <tr>\n",
       "      <th>4</th>\n",
       "      <td>4</td>\n",
       "      <td>003201673717864202280_0171883906.dem</td>\n",
       "      <td>de_dust2</td>\n",
       "      <td>09/28/2017 8:44:22 PM</td>\n",
       "      <td>1</td>\n",
       "      <td>8632</td>\n",
       "      <td>135.4024</td>\n",
       "      <td>Team 2</td>\n",
       "      <td>Team 1</td>\n",
       "      <td>Terrorist</td>\n",
       "      <td>...</td>\n",
       "      <td>76561198223006752</td>\n",
       "      <td>16</td>\n",
       "      <td>-1142.522</td>\n",
       "      <td>1200.967</td>\n",
       "      <td>-1157.690</td>\n",
       "      <td>1050.702</td>\n",
       "      <td>PISTOL_ROUND</td>\n",
       "      <td>2950</td>\n",
       "      <td>3850</td>\n",
       "      <td>16.0</td>\n",
       "    </tr>\n",
       "  </tbody>\n",
       "</table>\n",
       "<p>5 rows × 33 columns</p>\n",
       "</div>"
      ],
      "text/plain": [
       "   Unnamed: 0                                  file       map  \\\n",
       "0           0  003201673717864202280_0171883906.dem  de_dust2   \n",
       "1           1  003201673717864202280_0171883906.dem  de_dust2   \n",
       "2           2  003201673717864202280_0171883906.dem  de_dust2   \n",
       "3           3  003201673717864202280_0171883906.dem  de_dust2   \n",
       "4           4  003201673717864202280_0171883906.dem  de_dust2   \n",
       "\n",
       "                    date  round  tick   seconds att_team vic_team  \\\n",
       "0  09/28/2017 8:44:22 PM      1  8482  133.0582   Team 1   Team 2   \n",
       "1  09/28/2017 8:44:22 PM      1  8600  134.9023   Team 1   Team 2   \n",
       "2  09/28/2017 8:44:22 PM      1  8610  135.0586   Team 2   Team 1   \n",
       "3  09/28/2017 8:44:22 PM      1  8624  135.2774   Team 1   Team 2   \n",
       "4  09/28/2017 8:44:22 PM      1  8632  135.4024   Team 2   Team 1   \n",
       "\n",
       "           att_side      ...                   vic_id  vic_rank  att_pos_x  \\\n",
       "0  CounterTerrorist      ...        76561198123082770        17   1473.847   \n",
       "1  CounterTerrorist      ...        76561198051040004        17  -1211.723   \n",
       "2         Terrorist      ...        76561198223006752        16  -1153.584   \n",
       "3  CounterTerrorist      ...        76561198051040004        17  -1173.053   \n",
       "4         Terrorist      ...        76561198223006752        16  -1142.522   \n",
       "\n",
       "   att_pos_y vic_pos_x vic_pos_y    round_type ct_eq_val  t_eq_val  \\\n",
       "0   1351.358   662.170   772.748  PISTOL_ROUND      2950      3850   \n",
       "1   1060.813 -1184.006  1153.343  PISTOL_ROUND      2950      3850   \n",
       "2   1163.131 -1198.015  1050.423  PISTOL_ROUND      2950      3850   \n",
       "3   1044.365 -1141.785  1190.089  PISTOL_ROUND      2950      3850   \n",
       "4   1200.967 -1157.690  1050.702  PISTOL_ROUND      2950      3850   \n",
       "\n",
       "  avg_match_rank  \n",
       "0           16.0  \n",
       "1           16.0  \n",
       "2           16.0  \n",
       "3           16.0  \n",
       "4           16.0  \n",
       "\n",
       "[5 rows x 33 columns]"
      ]
     },
     "execution_count": 1,
     "metadata": {},
     "output_type": "execute_result"
    }
   ],
   "source": [
    "import pandas as pd\n",
    "import numpy as np\n",
    "\n",
    "csgo = pd.read_csv('mm_master_demos.csv', sep=',', encoding='utf-8', header= 0)\n",
    "\n",
    "csgo.head()"
   ]
  },
  {
   "cell_type": "markdown",
   "metadata": {},
   "source": [
    "## Parsing dataset \n",
    "\n",
    "\n",
    "<img src=\"h2o-screenshots/parse1.png\">\n",
    "<img src=\"h2o-screenshots/parse2.png\">"
   ]
  },
  {
   "cell_type": "markdown",
   "metadata": {},
   "source": [
    "# Correlation Heatmap\n",
    "\n",
    "A heat map is a two-dimensional representation of data in which values are represented by colors. A simple heat map provides an immediate visual summary of information. More elaborate heat maps allow the viewer to understand complex data sets.\n",
    "\n",
    "We want to avoid the features in our models which are highly correlated to the target as well as among themselves to get better picture of how the model is situated."
   ]
  },
  {
   "cell_type": "code",
   "execution_count": 21,
   "metadata": {},
   "outputs": [
    {
     "data": {
      "image/png": "[encoded data removed]",
      "text/plain": [
       "<Figure size 432x288 with 2 Axes>"
      ]
     },
     "metadata": {},
     "output_type": "display_data"
    }
   ],
   "source": [
    "def correlation_matrix(df):\n",
    "    from matplotlib import pyplot as plt\n",
    "    from matplotlib import cm as cm\n",
    "\n",
    "    fig = plt.figure()\n",
    "    ax1 = fig.add_subplot(111)\n",
    "    cmap = cm.get_cmap('jet', 30)\n",
    "    cax = ax1.imshow(df.corr(), interpolation=\"nearest\", cmap=cmap)\n",
    "    ax1.grid(True)\n",
    "    plt.title('Player stats correlation')\n",
    "    pd.options.display.max_columns = None\n",
    "    labels = df.head()\n",
    "    ax1.set_xticklabels(labels,fontsize=6)\n",
    "    ax1.set_yticklabels(labels,fontsize=6)\n",
    "    # Add colorbar, make sure to specify tick locations to match desired ticklabels\n",
    "    fig.colorbar(cax)\n",
    "    plt.show()\n",
    "    \n",
    "correlation_matrix(csgo)"
   ]
  },
  {
   "cell_type": "markdown",
   "metadata": {},
   "source": [
    "# Distribution\n",
    "\n",
    "The normal (or Gaussian or Gauss or Laplace–Gauss) distribution is a very common continuous probability distribution. Normal distributions are important in statistics and are often used in the natural and social sciences to represent real-valued random variables whose distributions are not known.\n",
    "\n",
    "We want to know how the data is spread out and there are no issues of scaling. If one of the features is in thousands and the other is in decimals the higher order feature will dominate the scaling. So we want our distribution to be normal."
   ]
  },
  {
   "cell_type": "code",
   "execution_count": 2,
   "metadata": {},
   "outputs": [
    {
     "data": {
      "image/png": "[encoded data removed]",
      "text/plain": [
       "<Figure size 432x288 with 1 Axes>"
      ]
     },
     "metadata": {},
     "output_type": "display_data"
    }
   ],
   "source": [
    "import matplotlib.pyplot as plt\n",
    "import matplotlib.mlab as mlab\n",
    "import warnings\n",
    "\n",
    "warnings.filterwarnings(\"ignore\",category=mlab.cbook.mplDeprecation)\n",
    "\n",
    "mu = 0.13\n",
    "sigma = 0.02\n",
    "x = np.linspace(mu - 3*sigma, mu + 3*sigma, 100)\n",
    "\n",
    "plt.plot(x,mlab.normpdf(x, mu, sigma))\n",
    "plt.show()"
   ]
  },
  {
   "cell_type": "markdown",
   "metadata": {},
   "source": [
    "# h2o.ai employed models \n",
    "\n",
    "- Generalized Linear Models\n",
    "- Distributed Random Forest\n",
    "- Gradient Boosting Machines\n",
    "- Naive Bayes\n",
    "- Deep Learning \n",
    "- Stacked Ensemble with Boosting\n",
    "\n",
    "\n",
    "### Here's the result from the employed models and there functionalities\n"
   ]
  },
  {
   "cell_type": "markdown",
   "metadata": {},
   "source": [
    "## Generalized Linear Models\n",
    "\n",
    "In statistics, the generalized linear model (GLM) is a flexible generalization of ordinary linear regression that allows for response variables that have error distribution models other than a normal distribution. The GLM generalizes linear regression by allowing the linear model to be related to the response variable via a link function and by allowing the magnitude of the variance of each measurement to be a function of its predicted value. \n",
    "\n",
    "In a generalized linear model (GLM), each outcome Y of the dependent variables is assumed to be generated from a particular distribution in the exponential family, a large range of probability distributions that includes the normal, binomial, Poisson and gamma distributions, among others. The mean, μ, of the distribution depends on the independent variables, X, through:\n",
    "\n",
    "    Y = β0 + β1X + bias\n",
    "    \n",
    "<img src=\"h2o-screenshots/glm.png\">\n",
    "\n",
    "\n",
    " R-squared is a normalized version of MSE, we use MSE for reporting because I think it's a simple metric and it is technically the loss-function we are minimizing when we solve the normal equations. It is useful because it is often easier to interpret since it doesn't depend on the scale of the data.\n",
    "\n",
    "As a concrete example, consider two models: one predicting income and the other predicting age, R2\n",
    "will make it easier to state which model is performing better*.\n",
    "\n",
    "\n",
    "    \n",
    "<img src=\"h2o-screenshots/glm-results.png\">"
   ]
  },
  {
   "cell_type": "markdown",
   "metadata": {},
   "source": [
    "## Distributed Random Forest\n",
    "\n",
    "Distributed Random Forest (DRF) is a powerful classification and regression tool. When given a set of data, DRF generates a forest of classification or regression trees, rather than a single classification or regression tree. Each of these trees is a weak learner built on a subset of rows and columns. More trees will reduce the variance. Both classification and regression take the average prediction over all of their trees to make a final prediction, whether predicting for a class or numeric value. (Note: For a categorical response column, DRF maps factors (e.g. ‘dog’, ‘cat’, ‘mouse) in lexicographic order to a name lookup array with integer indices (e.g. ‘cat -> 0, ‘dog’ -> 1, ‘mouse’ -> 2.)\n",
    "[7]\n",
    "\n",
    "The current version of DRF is fundamentally the same as in previous versions of H2O (same algorithmic steps, same histogramming techniques), with the exception of the following changes:\n",
    "\n",
    " - Improved ability to train on categorical variables (using the nbins_cats parameter)\n",
    " - Minor changes in histogramming logic for some corner cases\n",
    " - By default, DRF builds half as many trees for binomial problems, similar to GBM: it uses a single tree to estimate class 0 (probability “p0”), and then computes the probability of class 0 as 1.0−p0 \n",
    " - For multiclass problems, a tree is used to estimate the probability of each class separately.\n",
    " \n",
    " \n",
    "    \n",
    "<img src=\"h2o-screenshots/drf.png\">\n",
    "\n",
    "\n",
    "<img src=\"h2o-screenshots/drf-results.png\">\n",
    "\n",
    "R-squared is a normalized version of MSE, we use MSE for reporting because I think it's a simple metric and it is technically the loss-function we are minimizing when we solve the normal equations. It is useful because it is often easier to interpret since it doesn't depend on the scale of the data.\n",
    "\n",
    "<img src=\"h2o-screenshots/drf-features.png\">\n",
    "\n",
    "\n",
    "## Leaf Node Assignment\n",
    "\n",
    "Trees cluster observations into leaf nodes, and this information can be useful for feature engineering or model interpretability. Use h2o.predict_leaf_node_assignment( model, frame ) to get an H2OFrame with the leaf node assignments, or click the Compute Leafe Node Assignment checkbox when making predictions from Flow. Those leaf nodes represent decision rules that can be fed to other models (i.e., GLM with lambda search and strong rules) to obtain a limited set of the most important rules.\n"
   ]
  },
  {
   "cell_type": "markdown",
   "metadata": {},
   "source": [
    "## Gradient boosting Machine\n",
    "\n",
    "Gradient Boosting Machine (for Regression and Classification) is a forward learning ensemble method. The guiding heuristic is that good predictive results can be obtained through increasingly refined approximations. H2O’s GBM sequentially builds regression trees on all the features of the dataset in a fully distributed way - each tree is built in parallel.[7]\n",
    "\n",
    "The current version of GBM is fundamentally the same as in previous versions of H2O (same algorithmic steps, same histogramming techniques), with the exception of the following changes:\n",
    "\n",
    "   - Improved ability to train on categorical variables (using the nbins_cats parameter)\n",
    "   - Minor changes in histogramming logic for some corner cases\n",
    "   \n",
    "   \n",
    "\n",
    "<img src=\"h2o-screenshots/gbm-logloss.png\">\n",
    "\n",
    "\n",
    "<img src=\"h2o-screenshots/gbm-features.png\">\n"
   ]
  },
  {
   "cell_type": "markdown",
   "metadata": {},
   "source": [
    "## Naive Bayes\n",
    "\n",
    "Naïve Bayes is a classification algorithm that relies on strong assumptions of the independence of covariates in applying Bayes Theorem. The Naïve Bayes classifier assumes independence between predictor variables conditional on the response, and a Gaussian distribution of numeric predictors with mean and standard deviation computed from the training dataset.[7]\n",
    "\n",
    "Naïve Bayes models are commonly used as an alternative to decision trees for classification problems. When building a Naïve Bayes classifier, every row in the training dataset that contains at least one NA will be skipped completely. If the test dataset has missing values, then those predictors are omitted in the probability calculation during prediction.\n",
    "\n",
    "<img src=\"h2o-screenshots/naivebayes.png\">\n",
    "\n",
    "### Interpreting the results\n",
    "\n",
    "The output from Naïve Bayes is a list of tables containing the a-priori and conditional probabilities of each class of the response. The a-priori probability is the estimated probability of a particular class before observing any of the predictors. Each conditional probability table corresponds to a predictor column. The row headers are the classes of the response and the column headers are the classes of the predictor. "
   ]
  },
  {
   "cell_type": "markdown",
   "metadata": {},
   "source": [
    "## Deep Learning Approach through Tensor Flow"
   ]
  },
  {
   "cell_type": "code",
   "execution_count": 3,
   "metadata": {},
   "outputs": [
    {
     "name": "stderr",
     "output_type": "stream",
     "text": [
      "c:\\program files\\python36\\lib\\site-packages\\sklearn\\cross_validation.py:41: DeprecationWarning: This module was deprecated in version 0.18 in favor of the model_selection module into which all the refactored classes and functions are moved. Also note that the interface of the new CV iterators are different from that of this module. This module will be removed in 0.20.\n",
      "  \"This module will be removed in 0.20.\", DeprecationWarning)\n",
      "c:\\program files\\python36\\lib\\site-packages\\ipykernel_launcher.py:32: SettingWithCopyWarning: \n",
      "A value is trying to be set on a copy of a slice from a DataFrame.\n",
      "Try using .loc[row_indexer,col_indexer] = value instead\n",
      "\n",
      "See the caveats in the documentation: http://pandas.pydata.org/pandas-docs/stable/indexing.html#indexing-view-versus-copy\n"
     ]
    },
    {
     "name": "stdout",
     "output_type": "stream",
     "text": [
      "Splitting dataset ...\n",
      "Training & testing data loaded\n"
     ]
    }
   ],
   "source": [
    "%matplotlib inline\n",
    "import matplotlib.pyplot as plt\n",
    "import tensorflow as tf\n",
    "import numpy as np\n",
    "import pandas as pd\n",
    "from sklearn.metrics import confusion_matrix\n",
    "import time\n",
    "from datetime import timedelta\n",
    "import math\n",
    "from sklearn.cross_validation import train_test_split\n",
    "\n",
    "import sys, argparse, csv\n",
    "\n",
    "features = csgo[['map', 'date', 'round', 'tick', 'seconds', 'att_team',\n",
    "       'vic_team', 'att_side', 'vic_side', 'hp_dmg', 'arm_dmg',\n",
    "       'hitbox', 'wp', 'wp_type', 'award', 'att_id', 'att_rank', 'vic_id',\n",
    "       'vic_rank', 'att_pos_x', 'att_pos_y', 'vic_pos_x', 'vic_pos_y',\n",
    "       'round_type', 'ct_eq_val', 't_eq_val', 'avg_match_rank']]\n",
    "\n",
    "features = csgo[['round', 'tick', 'seconds', 'hp_dmg', 'arm_dmg', 'award', 'att_id', 'att_rank', 'vic_id',\n",
    "       'vic_rank', 'att_pos_x', 'att_pos_y', 'vic_pos_x', 'vic_pos_y','ct_eq_val', 't_eq_val', 'avg_match_rank']]\n",
    "target = csgo[['winner_side']]\n",
    "\n",
    "winner_lookup = ('Terrorist', 'CounterTerrorist')\n",
    "\n",
    "def get_winner(name):\n",
    "    return winner_lookup.index(name)\n",
    "\n",
    "\n",
    "sess = tf.Session().__enter__()\n",
    "\n",
    "target['winner_side'] = target['winner_side'].apply(get_winner)\n",
    "\n",
    "print('Splitting dataset ...')\n",
    "X_train, X_test, y_train, y_test = train_test_split(features, target, test_size=0.25, random_state=42)\n",
    "print('Training & testing data loaded')"
   ]
  },
  {
   "cell_type": "markdown",
   "metadata": {},
   "source": [
    "# Validation\n",
    "\n",
    "To validate that our model is properly caliberated we split the dataset into two portions, training and testing."
   ]
  },
  {
   "cell_type": "code",
   "execution_count": 4,
   "metadata": {},
   "outputs": [],
   "source": [
    "\n",
    "my_feature_columns = []\n",
    "for key in X_train.keys():\n",
    "    my_feature_columns.append(tf.feature_column.numeric_column(key=key))\n"
   ]
  },
  {
   "cell_type": "code",
   "execution_count": 5,
   "metadata": {},
   "outputs": [
    {
     "name": "stdout",
     "output_type": "stream",
     "text": [
      "INFO:tensorflow:Using default config.\n",
      "WARNING:tensorflow:Using temporary folder as model directory: C:\\Users\\Gautam\\AppData\\Local\\Temp\\tmp8cplk378\n",
      "INFO:tensorflow:Using config: {'_model_dir': 'C:\\\\Users\\\\Gautam\\\\AppData\\\\Local\\\\Temp\\\\tmp8cplk378', '_tf_random_seed': None, '_save_summary_steps': 100, '_save_checkpoints_steps': None, '_save_checkpoints_secs': 600, '_session_config': None, '_keep_checkpoint_max': 5, '_keep_checkpoint_every_n_hours': 10000, '_log_step_count_steps': 100, '_train_distribute': None, '_device_fn': None, '_service': None, '_cluster_spec': <tensorflow.python.training.server_lib.ClusterSpec object at 0x0000016493B2CE80>, '_task_type': 'worker', '_task_id': 0, '_global_id_in_cluster': 0, '_master': '', '_evaluation_master': '', '_is_chief': True, '_num_ps_replicas': 0, '_num_worker_replicas': 1}\n"
     ]
    }
   ],
   "source": [
    "# Build a DNN with 2 hidden layers and 10 nodes in each hidden layer.\n",
    "classifier = tf.estimator.DNNClassifier(\n",
    "    feature_columns=my_feature_columns,\n",
    "    # Two hidden layers of 10 nodes each.\n",
    "    hidden_units=[10, 10],\n",
    "    # The model must choose between 2 classes.\n",
    "    n_classes=2)\n"
   ]
  },
  {
   "cell_type": "code",
   "execution_count": 6,
   "metadata": {},
   "outputs": [
    {
     "name": "stdout",
     "output_type": "stream",
     "text": [
      "INFO:tensorflow:Calling model_fn.\n",
      "INFO:tensorflow:Done calling model_fn.\n",
      "INFO:tensorflow:Create CheckpointSaverHook.\n",
      "INFO:tensorflow:Graph was finalized.\n",
      "INFO:tensorflow:Running local_init_op.\n",
      "INFO:tensorflow:Done running local_init_op.\n",
      "INFO:tensorflow:Saving checkpoints for 0 into C:\\Users\\Gautam\\AppData\\Local\\Temp\\tmp8cplk378\\model.ckpt.\n",
      "INFO:tensorflow:loss = 2.2949859e+17, step = 1\n",
      "INFO:tensorflow:Saving checkpoints for 5 into C:\\Users\\Gautam\\AppData\\Local\\Temp\\tmp8cplk378\\model.ckpt.\n",
      "INFO:tensorflow:Loss for final step: 3.4780761e+16.\n"
     ]
    },
    {
     "data": {
      "text/plain": [
       "<tensorflow.python.estimator.canned.dnn.DNNClassifier at 0x16493b2c908>"
      ]
     },
     "execution_count": 6,
     "metadata": {},
     "output_type": "execute_result"
    }
   ],
   "source": [
    "def train_input_fn(features, labels, batch_size):\n",
    "    \"\"\"An input function for training\"\"\"\n",
    "    # Convert the inputs to a Dataset.\n",
    "    dataset = tf.data.Dataset.from_tensor_slices((dict(features), labels))\n",
    "\n",
    "    # Shuffle, repeat, and batch the examples.\n",
    "    return dataset.shuffle(1000).repeat().batch(batch_size)\n",
    "\n",
    "classifier.train(\n",
    "    input_fn=lambda:train_input_fn(X_train, y_train, 10),\n",
    "    steps=5)\n"
   ]
  },
  {
   "cell_type": "code",
   "execution_count": 7,
   "metadata": {},
   "outputs": [
    {
     "name": "stdout",
     "output_type": "stream",
     "text": [
      "INFO:tensorflow:Calling model_fn.\n",
      "WARNING:tensorflow:Trapezoidal rule is known to produce incorrect PR-AUCs; please switch to \"careful_interpolation\" instead.\n",
      "WARNING:tensorflow:Trapezoidal rule is known to produce incorrect PR-AUCs; please switch to \"careful_interpolation\" instead.\n",
      "INFO:tensorflow:Done calling model_fn.\n",
      "INFO:tensorflow:Starting evaluation at 2018-08-11-17:57:28\n",
      "INFO:tensorflow:Graph was finalized.\n",
      "INFO:tensorflow:Restoring parameters from C:\\Users\\Gautam\\AppData\\Local\\Temp\\tmp8cplk378\\model.ckpt-5\n",
      "INFO:tensorflow:Running local_init_op.\n",
      "INFO:tensorflow:Done running local_init_op.\n",
      "INFO:tensorflow:Finished evaluation at 2018-08-11-17:57:49\n",
      "INFO:tensorflow:Saving dict for global step 5: accuracy = 0.52031463, accuracy_baseline = 0.5203147, auc = 0.5, auc_precision_recall = 0.73984265, average_loss = 3730028500000000.0, global_step = 5, label/mean = 0.47968534, loss = 3.729982e+16, precision = 0.0, prediction/mean = 0.0, recall = 0.0\n",
      "INFO:tensorflow:Saving 'checkpoint_path' summary for global step 5: C:\\Users\\Gautam\\AppData\\Local\\Temp\\tmp8cplk378\\model.ckpt-5\n",
      "\n",
      "Test set accuracy: 0.520\n",
      "\n"
     ]
    }
   ],
   "source": [
    "def eval_input_fn(features, labels, batch_size):\n",
    "    \"\"\"An input function for evaluation or prediction\"\"\"\n",
    "    features=dict(features)\n",
    "    if labels is None:\n",
    "        # No labels, use only features.\n",
    "        inputs = features\n",
    "    else:\n",
    "        inputs = (features, labels)\n",
    "\n",
    "    # Convert the inputs to a Dataset.\n",
    "    dataset = tf.data.Dataset.from_tensor_slices(inputs)\n",
    "\n",
    "    # Batch the examples\n",
    "    assert batch_size is not None, \"batch_size must not be None\"\n",
    "    dataset = dataset.batch(batch_size)\n",
    "\n",
    "    # Return the dataset.\n",
    "    return dataset\n",
    "\n",
    "# Evaluate the model.\n",
    "eval_result = classifier.evaluate(\n",
    "    input_fn=lambda:eval_input_fn(X_test, y_test, 10))\n",
    "\n",
    "print('\\nTest set accuracy: {accuracy:0.3f}\\n'.format(**eval_result))\n"
   ]
  },
  {
   "cell_type": "code",
   "execution_count": 31,
   "metadata": {},
   "outputs": [
    {
     "name": "stdout",
     "output_type": "stream",
     "text": [
      "Epoch 1/10\n",
      "716599/716599 [==============================] - 22s 30us/step - loss: 7.7468 - categorical_accuracy: 0.5194\n",
      "Epoch 2/10\n",
      "716599/716599 [==============================] - 18s 25us/step - loss: 7.7468 - categorical_accuracy: 0.5194\n",
      "Epoch 3/10\n",
      "716599/716599 [==============================] - 18s 26us/step - loss: 7.7468 - categorical_accuracy: 0.5194\n",
      "Epoch 4/10\n",
      "716599/716599 [==============================] - 18s 25us/step - loss: 7.7468 - categorical_accuracy: 0.5194\n",
      "Epoch 5/10\n",
      "716599/716599 [==============================] - 18s 25us/step - loss: 7.7468 - categorical_accuracy: 0.5194\n",
      "Epoch 6/10\n",
      "716599/716599 [==============================] - 18s 25us/step - loss: 7.7468 - categorical_accuracy: 0.5194\n",
      "Epoch 7/10\n",
      "716599/716599 [==============================] - 18s 25us/step - loss: 7.7468 - categorical_accuracy: 0.5194\n",
      "Epoch 8/10\n",
      "716599/716599 [==============================] - 18s 25us/step - loss: 7.7468 - categorical_accuracy: 0.5194\n",
      "Epoch 9/10\n",
      "716599/716599 [==============================] - 18s 25us/step - loss: 7.7468 - categorical_accuracy: 0.5194\n",
      "Epoch 10/10\n",
      "716599/716599 [==============================] - 17s 23us/step - loss: 7.7468 - categorical_accuracy: 0.5194\n"
     ]
    },
    {
     "data": {
      "text/plain": [
       "<tensorflow.python.keras.callbacks.History at 0x16488e8a470>"
      ]
     },
     "execution_count": 31,
     "metadata": {},
     "output_type": "execute_result"
    }
   ],
   "source": [
    "from tensorflow import keras\n",
    "from tensorflow.keras.utils import to_categorical\n",
    "\n",
    "model = keras.Sequential()\n",
    "# Adds a densely-connected layer with 64 units to the model:\n",
    "model.add(keras.layers.Dense(64, activation='relu'))\n",
    "# Add another:\n",
    "model.add(keras.layers.Dense(64, activation='relu'))\n",
    "# Add a softmax layer with 10 output units:\n",
    "model.add(keras.layers.Dense(2, activation='softmax'))\n",
    "\n",
    "# Configure a model for categorical classification.\n",
    "model.compile(optimizer=tf.train.RMSPropOptimizer(0.01),\n",
    "              loss=keras.losses.categorical_crossentropy,\n",
    "              metrics=[keras.metrics.categorical_accuracy])\n",
    "\n",
    "labels = y_train['winner_side'].copy()\n",
    "y_binary = to_categorical(labels)\n",
    "model.fit(X_train.values, y_binary, epochs=10, batch_size=32)\n",
    "\n",
    "\n"
   ]
  },
  {
   "cell_type": "code",
   "execution_count": 9,
   "metadata": {},
   "outputs": [
    {
     "name": "stdout",
     "output_type": "stream",
     "text": [
      "Epoch 1/10\n",
      "30/30 [==============================] - 2s 53ms/step - loss: 5.8860e-08 - categorical_accuracy: 1.0000 - val_loss: 6.4572e-08 - val_categorical_accuracy: 1.0000\n",
      "Epoch 2/10\n",
      "30/30 [==============================] - 0s 1ms/step - loss: 5.6873e-08 - categorical_accuracy: 1.0000 - val_loss: 4.0978e-08 - val_categorical_accuracy: 1.0000\n",
      "Epoch 3/10\n",
      "30/30 [==============================] - 0s 1ms/step - loss: 5.3644e-08 - categorical_accuracy: 1.0000 - val_loss: 5.4638e-08 - val_categorical_accuracy: 1.0000\n",
      "Epoch 4/10\n",
      "30/30 [==============================] - 0s 1ms/step - loss: 5.8611e-08 - categorical_accuracy: 1.0000 - val_loss: 6.0846e-08 - val_categorical_accuracy: 1.0000\n",
      "Epoch 5/10\n",
      "30/30 [==============================] - 0s 1ms/step - loss: 5.9853e-08 - categorical_accuracy: 1.0000 - val_loss: 5.9605e-08 - val_categorical_accuracy: 1.0000\n",
      "Epoch 6/10\n",
      "30/30 [==============================] - 0s 1ms/step - loss: 5.6873e-08 - categorical_accuracy: 1.0000 - val_loss: 5.7121e-08 - val_categorical_accuracy: 1.0000\n",
      "Epoch 7/10\n",
      "30/30 [==============================] - 0s 1ms/step - loss: 5.4141e-08 - categorical_accuracy: 1.0000 - val_loss: 6.5813e-08 - val_categorical_accuracy: 1.0000\n",
      "Epoch 8/10\n",
      "30/30 [==============================] - 0s 1ms/step - loss: 5.5134e-08 - categorical_accuracy: 1.0000 - val_loss: 6.0846e-08 - val_categorical_accuracy: 1.0000\n",
      "Epoch 9/10\n",
      "30/30 [==============================] - 0s 1ms/step - loss: 6.3082e-08 - categorical_accuracy: 1.0000 - val_loss: 6.5813e-08 - val_categorical_accuracy: 1.0000\n",
      "Epoch 10/10\n",
      "30/30 [==============================] - 0s 964us/step - loss: 5.9977e-08 - categorical_accuracy: 1.0000 - val_loss: 4.5945e-08 - val_categorical_accuracy: 1.0000\n"
     ]
    },
    {
     "data": {
      "text/plain": [
       "<tensorflow.python.keras.callbacks.History at 0x1649eb84898>"
      ]
     },
     "execution_count": 9,
     "metadata": {},
     "output_type": "execute_result"
    }
   ],
   "source": [
    "\n",
    "model.add(keras.layers.Dense(1, activation='softmax'))\n",
    "\n",
    "# Configure a model for categorical classification.\n",
    "model.compile(optimizer=tf.train.RMSPropOptimizer(0.01),\n",
    "              loss=keras.losses.categorical_crossentropy,\n",
    "              metrics=[keras.metrics.categorical_accuracy])\n",
    "\n",
    "dataset = tf.data.Dataset.from_tensor_slices((X_train, y_train))\n",
    "dataset = dataset.batch(32).repeat()\n",
    "\n",
    "val_dataset = tf.data.Dataset.from_tensor_slices((X_test, y_test))\n",
    "val_dataset = val_dataset.batch(32).repeat()\n",
    "\n",
    "model.fit(dataset, epochs=10, steps_per_epoch=30,\n",
    "          validation_data=val_dataset,\n",
    "          validation_steps=3)\n"
   ]
  },
  {
   "cell_type": "code",
   "execution_count": 29,
   "metadata": {},
   "outputs": [
    {
     "name": "stdout",
     "output_type": "stream",
     "text": [
      "Epoch 1/5\n",
      "716599/716599 [==============================] - 19s 26us/step - loss: 8.2775 - acc: 0.4864\n",
      "Epoch 2/5\n",
      "716599/716599 [==============================] - 17s 24us/step - loss: 8.2775 - acc: 0.4864\n",
      "Epoch 3/5\n",
      "716599/716599 [==============================] - 18s 24us/step - loss: 8.2775 - acc: 0.4864\n",
      "Epoch 4/5\n",
      "716599/716599 [==============================] - 17s 24us/step - loss: 8.2775 - acc: 0.4864\n",
      "Epoch 5/5\n",
      "716599/716599 [==============================] - 21s 29us/step - loss: 8.2775 - acc: 0.4864\n"
     ]
    },
    {
     "data": {
      "text/plain": [
       "<tensorflow.python.keras.callbacks.History at 0x16494e69470>"
      ]
     },
     "execution_count": 29,
     "metadata": {},
     "output_type": "execute_result"
    }
   ],
   "source": [
    "inputs = keras.Input(shape=(17,))  # Returns a placeholder tensor\n",
    "\n",
    "# A layer instance is callable on a tensor, and returns a tensor.\n",
    "x = keras.layers.Dense(64, activation='relu')(inputs)\n",
    "x = keras.layers.Dense(64, activation='relu')(x)\n",
    "predictions = keras.layers.Dense(2, activation='softmax')(x)\n",
    "\n",
    "# Instantiate the model given inputs and outputs.\n",
    "model = keras.Model(inputs=inputs, outputs=predictions)\n",
    "\n",
    "# The compile step specifies the training configuration.\n",
    "model.compile(optimizer=tf.train.RMSPropOptimizer(0.001),\n",
    "              loss='categorical_crossentropy',\n",
    "              metrics=['accuracy'])\n",
    "\n",
    "# Trains for 5 epochs\n",
    "model.fit(X_train.values, to_categorical(y_train), batch_size=32, epochs=5)"
   ]
  },
  {
   "cell_type": "markdown",
   "metadata": {},
   "source": [
    "# Activation function\n",
    "\n",
    "I used two activation function with final classifier softmax to classify the features into winners and losers. The accuracy had a little effect on changing the activation function to tanh. This might be the case because the features are all positively scaled and scaling is already done so it doesn't affect accuracy much.\n",
    "\n",
    "# Cost function\n",
    "\n",
    "I used cost function mean sqaured error and categorical crossentropy , there was a four percent increase in accuracy however small the actual prediction may have been. Through the tensor graph we can see the affect on the network plateaus.\n",
    "\n",
    "# Epochs \n",
    "\n",
    "I used two epochs 5 and 10. The processing time was significantly higher with 10 epochs, however the accuracy improvements were consistentely imporving with every epoch increase.\n",
    "\n",
    "# Gradient estimation\n",
    "\n",
    "The concept of a regional gradient isintroduced as a tool for analyzing and comparing different types\n",
    "of gradient estimates. The correlation of different estimated gradients to the direction of the global optima is evaluated for standard test functions. The function was proven to not have any significant imporvements\n",
    "\n",
    "# Network Architecture\n",
    "\n",
    "Initial architecture was setup to be 10X10 with the output layer setup to be 2, the accuracy was 52%. With the architecture changed to 64X64 the processing time was significantly increased and the accuracy improved to 58%. There were no pre trained components.\n",
    "\n",
    "# Network initialization\n",
    "\n",
    "Two network initializations used were 0 and gaussian. Since the data is normally distributed it didn't make any sense to setup the network with gaussian initializers. It was setup to be 0 for optimal results and output."
   ]
  },
  {
   "cell_type": "code",
   "execution_count": 32,
   "metadata": {},
   "outputs": [
    {
     "name": "stdout",
     "output_type": "stream",
     "text": [
      "Epoch 1/10\n",
      "30/30 [==============================] - 5s 151ms/step - loss: 0.5062 - categorical_accuracy: 1.0000 - val_loss: 0.4583 - val_categorical_accuracy: 1.0000\n",
      "Epoch 2/10\n",
      "30/30 [==============================] - 0s 1ms/step - loss: 0.5229 - categorical_accuracy: 1.0000 - val_loss: 0.6562 - val_categorical_accuracy: 1.0000\n",
      "Epoch 3/10\n",
      "30/30 [==============================] - 0s 1ms/step - loss: 0.5500 - categorical_accuracy: 1.0000 - val_loss: 0.5417 - val_categorical_accuracy: 1.0000\n",
      "Epoch 4/10\n",
      "30/30 [==============================] - 0s 1ms/step - loss: 0.5083 - categorical_accuracy: 1.0000 - val_loss: 0.4896 - val_categorical_accuracy: 1.0000\n",
      "Epoch 5/10\n",
      "30/30 [==============================] - 0s 1ms/step - loss: 0.4979 - categorical_accuracy: 1.0000 - val_loss: 0.5000 - val_categorical_accuracy: 1.0000\n",
      "Epoch 6/10\n",
      "30/30 [==============================] - 0s 1ms/step - loss: 0.5229 - categorical_accuracy: 1.0000 - val_loss: 0.5208 - val_categorical_accuracy: 1.0000\n",
      "Epoch 7/10\n",
      "30/30 [==============================] - 0s 964us/step - loss: 0.5458 - categorical_accuracy: 1.0000 - val_loss: 0.4479 - val_categorical_accuracy: 1.0000\n",
      "Epoch 8/10\n",
      "30/30 [==============================] - 0s 1ms/step - loss: 0.5375 - categorical_accuracy: 1.0000 - val_loss: 0.4896 - val_categorical_accuracy: 1.0000\n",
      "Epoch 9/10\n",
      "30/30 [==============================] - 0s 997us/step - loss: 0.4708 - categorical_accuracy: 1.0000 - val_loss: 0.4479 - val_categorical_accuracy: 1.0000\n",
      "Epoch 10/10\n",
      "30/30 [==============================] - 0s 1ms/step - loss: 0.4969 - categorical_accuracy: 1.0000 - val_loss: 0.6146 - val_categorical_accuracy: 1.0000\n"
     ]
    },
    {
     "data": {
      "text/plain": [
       "<tensorflow.python.keras.callbacks.History at 0x16486655ef0>"
      ]
     },
     "execution_count": 32,
     "metadata": {},
     "output_type": "execute_result"
    }
   ],
   "source": [
    "\n",
    "model.add(keras.layers.Dense(1, activation='softmax'))\n",
    "\n",
    "# Configure a model for categorical classification.\n",
    "model.compile(optimizer=tf.train.RMSPropOptimizer(0.01),\n",
    "              loss=keras.losses.mean_squared_error,\n",
    "              metrics=[keras.metrics.categorical_accuracy])\n",
    "\n",
    "dataset = tf.data.Dataset.from_tensor_slices((X_train, y_train))\n",
    "dataset = dataset.batch(32).repeat()\n",
    "\n",
    "val_dataset = tf.data.Dataset.from_tensor_slices((X_test, y_test))\n",
    "val_dataset = val_dataset.batch(32).repeat()\n",
    "\n",
    "model.fit(dataset, epochs=10, steps_per_epoch=30,\n",
    "          validation_data=val_dataset,\n",
    "          validation_steps=3)"
   ]
  },
  {
   "cell_type": "code",
   "execution_count": 10,
   "metadata": {},
   "outputs": [
    {
     "name": "stdout",
     "output_type": "stream",
     "text": [
      "Epoch 1/5\n",
      "716599/716599 [==============================] - 18s 25us/step - loss: 8.2775 - acc: 0.4864\n",
      "Epoch 2/5\n",
      "716599/716599 [==============================] - 17s 23us/step - loss: 8.2775 - acc: 0.4864\n",
      "Epoch 3/5\n",
      "716599/716599 [==============================] - 17s 23us/step - loss: 8.2775 - acc: 0.4864\n",
      "Epoch 4/5\n",
      "716599/716599 [==============================] - 17s 24us/step - loss: 8.2775 - acc: 0.4864\n",
      "Epoch 5/5\n",
      "716599/716599 [==============================] - 16s 23us/step - loss: 8.2775 - acc: 0.4864\n"
     ]
    },
    {
     "data": {
      "text/plain": [
       "<tensorflow.python.keras.callbacks.History at 0x1649e9e36d8>"
      ]
     },
     "execution_count": 10,
     "metadata": {},
     "output_type": "execute_result"
    }
   ],
   "source": [
    "inputs = keras.Input(shape=(17,))  # Returns a placeholder tensor\n",
    "\n",
    "# A layer instance is callable on a tensor, and returns a tensor.\n",
    "x = keras.layers.Dense(64, activation='relu')(inputs)\n",
    "x = keras.layers.Dense(64, activation='relu')(x)\n",
    "predictions = keras.layers.Dense(2, activation='softmax')(x)\n",
    "\n",
    "# Instantiate the model given inputs and outputs.\n",
    "model = keras.Model(inputs=inputs, outputs=predictions)\n",
    "\n",
    "# The compile step specifies the training configuration.\n",
    "model.compile(optimizer=tf.train.RMSPropOptimizer(0.001),\n",
    "              loss='categorical_crossentropy',\n",
    "              metrics=['accuracy'])\n",
    "\n",
    "# Trains for 5 epochs\n",
    "model.fit(X_train.values, to_categorical(y_train), batch_size=32, epochs=5)\n"
   ]
  },
  {
   "cell_type": "code",
   "execution_count": 24,
   "metadata": {},
   "outputs": [
    {
     "name": "stdout",
     "output_type": "stream",
     "text": [
      "Epoch 1/5\n",
      "716599/716599 [==============================] - 20s 27us/step - loss: 0.6952 - acc: 0.5083\n",
      "Epoch 2/5\n",
      "716599/716599 [==============================] - 18s 25us/step - loss: 0.6940 - acc: 0.5077\n",
      "Epoch 3/5\n",
      "716599/716599 [==============================] - 20s 28us/step - loss: 0.6940 - acc: 0.5085\n",
      "Epoch 4/5\n",
      "716599/716599 [==============================] - 18s 26us/step - loss: 0.6941 - acc: 0.5083\n",
      "Epoch 5/5\n",
      "716599/716599 [==============================] - 18s 25us/step - loss: 0.6940 - acc: 0.5084\n"
     ]
    },
    {
     "data": {
      "text/plain": [
       "<tensorflow.python.keras.callbacks.History at 0x164ccf65b38>"
      ]
     },
     "execution_count": 24,
     "metadata": {},
     "output_type": "execute_result"
    }
   ],
   "source": [
    "inputs = keras.Input(shape=(17,))  # Returns a placeholder tensor\n",
    "\n",
    "# A layer instance is callable on a tensor, and returns a tensor.\n",
    "x = keras.layers.Dense(64, activation='relu')(inputs)\n",
    "x = keras.layers.Dense(64, activation='tanh')(x)\n",
    "predictions = keras.layers.Dense(2, activation='softmax')(x)\n",
    "\n",
    "# Instantiate the model given inputs and outputs.\n",
    "model = keras.Model(inputs=inputs, outputs=predictions)\n",
    "\n",
    "# The compile step specifies the training configuration.\n",
    "model.compile(optimizer=tf.train.RMSPropOptimizer(0.001),\n",
    "              loss='categorical_crossentropy',\n",
    "              metrics=['accuracy'])\n",
    "\n",
    "# Trains for 5 epochs\n",
    "model.fit(X_train.values, to_categorical(y_train), batch_size=32, epochs=5)"
   ]
  },
  {
   "cell_type": "code",
   "execution_count": 17,
   "metadata": {},
   "outputs": [],
   "source": [
    "# TensorFlow Graph visualizer code\n",
    "import numpy as np\n",
    "from IPython.display import clear_output, Image, display, HTML\n",
    "\n",
    "def strip_consts(graph_def, max_const_size=32):\n",
    "    \"\"\"Strip large constant values from graph_def.\"\"\"\n",
    "    strip_def = tf.GraphDef()\n",
    "    for n0 in graph_def.node:\n",
    "        n = strip_def.node.add() \n",
    "        n.MergeFrom(n0)\n",
    "        if n.op == 'Const':\n",
    "            tensor = n.attr['value'].tensor\n",
    "            size = len(tensor.tensor_content)\n",
    "            if size > max_const_size:\n",
    "                tensor.tensor_content = \"<stripped %d bytes>\"%size\n",
    "    return strip_def\n",
    "\n",
    "def show_graph(graph_def, max_const_size=32):\n",
    "    \"\"\"Visualize TensorFlow graph.\"\"\"\n",
    "    if hasattr(graph_def, 'as_graph_def'):\n",
    "        graph_def = graph_def.as_graph_def()\n",
    "    strip_def = strip_consts(graph_def, max_const_size=max_const_size)\n",
    "    code = \"\"\"\n",
    "        <script src=\"//cdnjs.cloudflare.com/ajax/libs/polymer/0.3.3/platform.js\"></script>\n",
    "        <script>\n",
    "          function load() {{\n",
    "            document.getElementById(\"{id}\").pbtxt = {data};\n",
    "          }}\n",
    "        </script>\n",
    "        <link rel=\"import\" href=\"https://tensorboard.appspot.com/tf-graph-basic.build.html\" onload=load()>\n",
    "        <div style=\"height:600px\">\n",
    "          <tf-graph-basic id=\"{id}\"></tf-graph-basic>\n",
    "        </div>\n",
    "    \"\"\".format(data=repr(str(strip_def)), id='graph'+str(np.random.rand()))\n",
    "\n",
    "    iframe = \"\"\"\n",
    "        <iframe seamless style=\"width:1200px;height:620px;border:0\" srcdoc=\"{}\"></iframe>\n",
    "    \"\"\".format(code.replace('\"', '&quot;'))\n",
    "    display(HTML(iframe))"
   ]
  },
  {
   "cell_type": "code",
   "execution_count": 33,
   "metadata": {
    "scrolled": true
   },
   "outputs": [
    {
     "data": {
      "text/html": [
       "\n",
       "        <iframe seamless style=\"width:1200px;height:620px;border:0\" srcdoc=\"\n",
       "        <script src=&quot;//cdnjs.cloudflare.com/ajax/libs/polymer/0.3.3/platform.js&quot;></script>\n",
       "        <script>\n",
       "          function load() {\n",
       "            document.getElementById(&quot;graph0.5148903244476398&quot;).pbtxt = 'node {\\n  name: &quot;X&quot;\\n  op: &quot;Placeholder&quot;\\n  attr {\\n    key: &quot;dtype&quot;\\n    value {\\n      type: DT_FLOAT\\n    }\\n  }\\n  attr {\\n    key: &quot;shape&quot;\\n    value {\\n      shape {\\n        unknown_rank: true\\n      }\\n    }\\n  }\\n}\\nnode {\\n  name: &quot;Layer1/W1&quot;\\n  op: &quot;Placeholder&quot;\\n  attr {\\n    key: &quot;dtype&quot;\\n    value {\\n      type: DT_FLOAT\\n    }\\n  }\\n  attr {\\n    key: &quot;shape&quot;\\n    value {\\n      shape {\\n        unknown_rank: true\\n      }\\n    }\\n  }\\n}\\nnode {\\n  name: &quot;Layer1/b1&quot;\\n  op: &quot;Placeholder&quot;\\n  attr {\\n    key: &quot;dtype&quot;\\n    value {\\n      type: DT_FLOAT\\n    }\\n  }\\n  attr {\\n    key: &quot;shape&quot;\\n    value {\\n      shape {\\n        unknown_rank: true\\n      }\\n    }\\n  }\\n}\\nnode {\\n  name: &quot;Layer1/MatMul&quot;\\n  op: &quot;BatchMatMul&quot;\\n  input: &quot;X&quot;\\n  input: &quot;Layer1/W1&quot;\\n  attr {\\n    key: &quot;T&quot;\\n    value {\\n      type: DT_FLOAT\\n    }\\n  }\\n  attr {\\n    key: &quot;adj_x&quot;\\n    value {\\n      b: false\\n    }\\n  }\\n  attr {\\n    key: &quot;adj_y&quot;\\n    value {\\n      b: false\\n    }\\n  }\\n}\\nnode {\\n  name: &quot;Layer1/add&quot;\\n  op: &quot;Add&quot;\\n  input: &quot;Layer1/MatMul&quot;\\n  input: &quot;Layer1/b1&quot;\\n  attr {\\n    key: &quot;T&quot;\\n    value {\\n      type: DT_FLOAT\\n    }\\n  }\\n}\\nnode {\\n  name: &quot;Layer1/Relu&quot;\\n  op: &quot;Relu&quot;\\n  input: &quot;Layer1/add&quot;\\n  attr {\\n    key: &quot;T&quot;\\n    value {\\n      type: DT_FLOAT\\n    }\\n  }\\n}\\nnode {\\n  name: &quot;Layer2/W2&quot;\\n  op: &quot;Placeholder&quot;\\n  attr {\\n    key: &quot;dtype&quot;\\n    value {\\n      type: DT_FLOAT\\n    }\\n  }\\n  attr {\\n    key: &quot;shape&quot;\\n    value {\\n      shape {\\n        unknown_rank: true\\n      }\\n    }\\n  }\\n}\\nnode {\\n  name: &quot;Layer2/b2&quot;\\n  op: &quot;Placeholder&quot;\\n  attr {\\n    key: &quot;dtype&quot;\\n    value {\\n      type: DT_FLOAT\\n    }\\n  }\\n  attr {\\n    key: &quot;shape&quot;\\n    value {\\n      shape {\\n        unknown_rank: true\\n      }\\n    }\\n  }\\n}\\nnode {\\n  name: &quot;Layer2/MatMul&quot;\\n  op: &quot;BatchMatMul&quot;\\n  input: &quot;Layer1/Relu&quot;\\n  input: &quot;Layer2/W2&quot;\\n  attr {\\n    key: &quot;T&quot;\\n    value {\\n      type: DT_FLOAT\\n    }\\n  }\\n  attr {\\n    key: &quot;adj_x&quot;\\n    value {\\n      b: false\\n    }\\n  }\\n  attr {\\n    key: &quot;adj_y&quot;\\n    value {\\n      b: false\\n    }\\n  }\\n}\\nnode {\\n  name: &quot;Layer2/add&quot;\\n  op: &quot;Add&quot;\\n  input: &quot;Layer2/MatMul&quot;\\n  input: &quot;Layer2/b2&quot;\\n  attr {\\n    key: &quot;T&quot;\\n    value {\\n      type: DT_FLOAT\\n    }\\n  }\\n}\\nnode {\\n  name: &quot;Layer2/Relu&quot;\\n  op: &quot;Relu&quot;\\n  input: &quot;Layer2/add&quot;\\n  attr {\\n    key: &quot;T&quot;\\n    value {\\n      type: DT_FLOAT\\n    }\\n  }\\n}\\nnode {\\n  name: &quot;Layer3/W3&quot;\\n  op: &quot;Placeholder&quot;\\n  attr {\\n    key: &quot;dtype&quot;\\n    value {\\n      type: DT_FLOAT\\n    }\\n  }\\n  attr {\\n    key: &quot;shape&quot;\\n    value {\\n      shape {\\n        unknown_rank: true\\n      }\\n    }\\n  }\\n}\\nnode {\\n  name: &quot;Layer3/b3&quot;\\n  op: &quot;Placeholder&quot;\\n  attr {\\n    key: &quot;dtype&quot;\\n    value {\\n      type: DT_FLOAT\\n    }\\n  }\\n  attr {\\n    key: &quot;shape&quot;\\n    value {\\n      shape {\\n        unknown_rank: true\\n      }\\n    }\\n  }\\n}\\nnode {\\n  name: &quot;Layer3/MatMul&quot;\\n  op: &quot;BatchMatMul&quot;\\n  input: &quot;Layer2/Relu&quot;\\n  input: &quot;Layer3/W3&quot;\\n  attr {\\n    key: &quot;T&quot;\\n    value {\\n      type: DT_FLOAT\\n    }\\n  }\\n  attr {\\n    key: &quot;adj_x&quot;\\n    value {\\n      b: false\\n    }\\n  }\\n  attr {\\n    key: &quot;adj_y&quot;\\n    value {\\n      b: false\\n    }\\n  }\\n}\\nnode {\\n  name: &quot;Layer3/add&quot;\\n  op: &quot;Add&quot;\\n  input: &quot;Layer3/MatMul&quot;\\n  input: &quot;Layer3/b3&quot;\\n  attr {\\n    key: &quot;T&quot;\\n    value {\\n      type: DT_FLOAT\\n    }\\n  }\\n}\\n';\n",
       "          }\n",
       "        </script>\n",
       "        <link rel=&quot;import&quot; href=&quot;https://tensorboard.appspot.com/tf-graph-basic.build.html&quot; onload=load()>\n",
       "        <div style=&quot;height:600px&quot;>\n",
       "          <tf-graph-basic id=&quot;graph0.5148903244476398&quot;></tf-graph-basic>\n",
       "        </div>\n",
       "    \"></iframe>\n",
       "    "
      ],
      "text/plain": [
       "<IPython.core.display.HTML object>"
      ]
     },
     "metadata": {},
     "output_type": "display_data"
    }
   ],
   "source": [
    "with tf.name_scope('hidden') as scope:\n",
    "  a = tf.constant(5, name='alpha')\n",
    "  W = tf.Variable(tf.random_uniform([1, 2], -1.0, 1.0), name='weights')\n",
    "  b = tf.Variable(tf.zeros([1]), name='biases')\n",
    "\n",
    "file_writer = tf.summary.FileWriter('/path/to/logs', sess.graph)\n",
    "\n",
    "\n",
    "g = tf.Graph()\n",
    "\n",
    "with g.as_default():\n",
    "    X = tf.placeholder(tf.float32, name=\"X\")\n",
    "    \n",
    "    with tf.name_scope(\"Layer1\"):\n",
    "        W1 = tf.placeholder(tf.float32, name=\"W1\")\n",
    "        b1 = tf.placeholder(tf.float32, name=\"b1\")\n",
    "\n",
    "        a1 = tf.nn.relu(tf.matmul(X, W1) + b1)\n",
    "    \n",
    "    with tf.name_scope(\"Layer2\"):\n",
    "        W2 = tf.placeholder(tf.float32, name=\"W2\")\n",
    "        b2 = tf.placeholder(tf.float32, name=\"b2\")\n",
    "\n",
    "        a2 = tf.nn.relu(tf.matmul(a1, W2) + b2)\n",
    "\n",
    "    with tf.name_scope(\"Layer3\"):\n",
    "        W3 = tf.placeholder(tf.float32, name=\"W3\")\n",
    "        b3 = tf.placeholder(tf.float32, name=\"b3\")\n",
    "\n",
    "        y_hat = tf.matmul(a2, W3) + b3\n",
    "    \n",
    "tf.summary.FileWriter(\"logs\", g).close()\n",
    "\n",
    "\n",
    "show_graph(g)"
   ]
  },
  {
   "cell_type": "markdown",
   "metadata": {},
   "source": [
    "## Deep Learning Approach through h20.ai\n",
    "\n",
    "H2O’s Deep Learning is based on a multi-layer feedforward artificial neural network that is trained with stochastic gradient descent using back-propagation. The network can contain a large number of hidden layers consisting of neurons with tanh, rectifier, and maxout activation functions. Advanced features such as adaptive learning rate, rate annealing, momentum training, dropout, L1 or L2 regularization, checkpointing, and grid search enable high predictive accuracy. Each compute node trains a copy of the global model parameters on its local data with multi-threading (asynchronously) and contributes periodically to the global model via model averaging across the network.[7]\n",
    "\n",
    "A feedforward artificial neural network (ANN) model, also known as deep neural network (DNN) or multi-layer perceptron (MLP), is the most common type of Deep Neural Network and the only type that is supported natively in H2O-3. Several other types of DNNs are popular as well, such as Convolutional Neural Networks (CNNs) and Recurrent Neural Networks (RNNs). MLPs work well on transactional (tabular) data; however if you have image data, then CNNs are a great choice. If you have sequential data (e.g. text, audio, time-series), then RNNs are a good choice.\n",
    "\n",
    "<img src=\"h2o-screenshots/deep-learning-features.png\">\n",
    "\n",
    "### Accuracy\n",
    "\n",
    "Upon employing a boosting enabled stack ensemble using all the algorithm above I got a ~69% accuracy in win/loss predictions"
   ]
  },
  {
   "cell_type": "markdown",
   "metadata": {},
   "source": [
    "## Stack Ensemble\n",
    "\n",
    "Ensemble machine learning methods use multiple learning algorithms to obtain better predictive performance than could be obtained from any of the constituent learning algorithms. Many of the popular modern machine learning algorithms are actually ensembles. For example, Random Forest and Gradient Boosting Machine (GBM) are both ensemble learners. Both bagging (e.g. Random Forest) and boosting (e.g. GBM) are methods for ensembling that take a collection of weak learners (e.g. decision tree) and form a single, strong learner. [7]\n",
    "\n",
    "H2O’s Stacked Ensemble method is supervised ensemble machine learning algorithm that finds the optimal combination of a collection of prediction algorithms using a process called stacking. Like all supervised models in H2O, Stacked Enemseble supports regression, binary classification and multiclass classification.\n",
    "\n",
    "\n",
    "### Training the models for stack Ensemble\n",
    "\n",
    "Before training a stacked ensemble, you will need to train and cross-validate a set of “base models” which will make up the ensemble. In order to stack these models toegther, a few things are required:\n",
    "\n",
    "   - The models must be cross-validated using the same number of folds (e.g. nfolds = 5 or use the same fold_column across base learners).\n",
    "   - The cross-validated predictions from all of the models must be preserved by setting keep_cross_validation_predictions to True. This is the data which is used to train the metalearner, or “combiner”, algorithm in the ensemble.\n",
    "   - You can train these models manually, or you can use a group of models from a grid search.\n",
    "   - The models must be trained on the same training_frame. The rows must be identical, but you can use different sets of predictor columns, x, across models if you choose. Using base models trained on different subsets of the feature space will add more randomness/diversity to the set of base models, which in theory can improve ensemble performance. However, using all available predictor columns for each base model will often still yield the best results (the more data, the better the models).\n",
    "\n",
    "\n",
    "### Accuracy\n",
    "\n",
    "Upon employing a boosting enabled stack ensemble using all the algorithm above I got a ~73% accuracy in win/loss predictions"
   ]
  },
  {
   "cell_type": "markdown",
   "metadata": {},
   "source": [
    "## Conclusion\n",
    "\n",
    "The features are important because the objective is to have players stay in servers as long as possible. They're important in deciding which players need to be employed to the other team. On completion of the maps win/loss prediction would be essential in forming the next batch of teams. The validation of results is done using 10-fold cross validation method which divides the dataset into 10 subsets, and the holdout method is repeated 10 times. Each time, one of the 10 subsets is used as the test set and the other 9 subsets are put together to form a training set. Then the average error across all 10 trials is computed. The advantage of this method is that it matters less how the data gets divided. Every data point gets to be in a test set exactly once and gets to be in a training set 9 times. In every method, a confusion matrix is created 10 times for each fold. The accuracy in each of the confusion matrix is recorded and the average is considered. This method of validation is propagated across all the methods used.\n",
    "\n",
    "### Important features\n",
    "\n",
    "- ct_eq_val(Numeric): The Counter Terrorist team's total equipment value (weapon + grenades + armor + utilities) after buy time.\n",
    "   - **Important through algorithms: Deep Learning, Gradient Boosting Machines & Naive Bayes**\n",
    "\n",
    "\n",
    "- t_eq_val(Numeric): The Terrorist team's total equipment value (weapon + grenades + armor + utilities) after buy time.\n",
    "   - **Important through algorithms: Deep Learning, Gradient Boosting Machines & Naive Bayes**\n",
    "  \n",
    "  \n",
    "- vic_rank(Numeric): The new rank of the victim after the match is complete. Both att_rank and vic_rank are constant over all damage entries for each player/match.\n",
    "    - **Important through algorithms: Generalized Linear Model**\n",
    "\n",
    "- round(Numeric): The round that the duel took place.\n",
    "   - **Important through algorithms: Distributed Random Forest, Generalized Linear Model**\n",
    "\n",
    "- tick(Numeric): The current tick in the demo the entry took place. A tick is represented as a state in the game, Valve's competitive matchmaking sets every match at 64 ticks which represents that there are 64 states within each second of the game.\n",
    "   - **Important through algorithms: Distributed Random Forest**\n",
    "\n",
    "- att_rank(Numeric): The new rank of the attacking player after the match is complete.\n",
    "    - **Important through algorithms: Generalized Linear Model**\n",
    "    \n",
    "### Deep Learning \n",
    "\n",
    "One of the best analysis was done by the deep learning model it emphasised the particaular biases in winning or losing based on maps. Mirage, de_cache and de_dust2 were among the chief factors for people winning or loosing matches as several of the advanced player had exprience playing those maps. \n",
    "\n",
    "Another factor was 'Force Buy' in round Types, in csgo when you lose a round you often dont have enough money to buy weapons and equipment. you will buy pistols then and go in an eco round. a force buy is an eco round where you have to buy because it's for example the last round in the half.\n",
    "\n",
    "### Accuracy\n",
    "\n",
    "For Accuracy calculations and straight predictions of win/loss without feature importances the best algorithm would be Stack - Ensemble it has an accuracy of  ~73%. We don't wanna have a high accuracy model because if we're certain which team is going to win it's going to make the matches less interesting.\n",
    "\n"
   ]
  },
  {
   "cell_type": "markdown",
   "metadata": {},
   "source": [
    "## References\n",
    "\n",
    "\n",
    "1. CS Wikipedia: https://en.wikipedia.org/wiki/Counter-Strike:_Global_Offensive\n",
    "2. CS GO: https://github.com/sdieunidou/csgo-predict-sklearn-demo\n",
    "3. War and Picks http://www.datdota.com/blog/?p=1323  \n",
    "5. Result Prediction by Mining Replays in Dota 2 https://www.diva-portal.org/smash/get/diva2:829556/FULLTEXT01.pdf \n",
    "6. Identifying Patterns in Combat that are Predictive of Success in MOBA Games http://ciigar.csc.ncsu.edu/file/bib/Yang2014-MOBASucessPatterns.pdf \n",
    "7. H2o documentation : http://docs.h2o.ai/h2o/latest-stable/h2o-docs/data-science.html\n",
    "8. Dataset: https://www.kaggle.com/skihikingkevin/csgo-matchmaking-damage/home"
   ]
  }
 ],
 "metadata": {
  "kernelspec": {
   "display_name": "Python 3",
   "language": "python",
   "name": "python3"
  },
  "language_info": {
   "codemirror_mode": {
    "name": "ipython",
    "version": 3
   },
   "file_extension": ".py",
   "mimetype": "text/x-python",
   "name": "python",
   "nbconvert_exporter": "python",
   "pygments_lexer": "ipython3",
   "version": "3.6.0"
  }
 },
 "nbformat": 4,
 "nbformat_minor": 2
}
